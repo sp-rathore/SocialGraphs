{
 "cells": [
  {
   "cell_type": "markdown",
   "metadata": {},
   "source": [
    "## Part 3\n",
    "\n",
    "We will use the [LabMT wordlist](http://journals.plos.org/plosone/article/asset?unique&id=info:doi/10.1371/journal.pone.0026752.s001) in order to evaluate the sentiment of a given text. \n",
    "\n",
    "This wordlist was generated with Amazon Mechanical Turk, a crowdsourcing platform where real people perform simple tasks that are to hard for computers. Then, this list gives the \"happiness level\" of each word, based on 50 real user evaluations. It also gives a ranking for the utilisation of a given word in 4 sources: Twitter, Google Books, NYT, and Song Lyrics."
   ]
  },
  {
   "cell_type": "code",
   "execution_count": 56,
   "metadata": {
    "collapsed": true
   },
   "outputs": [],
   "source": [
    "import nltk"
   ]
  },
  {
   "cell_type": "code",
   "execution_count": 59,
   "metadata": {
    "collapsed": false
   },
   "outputs": [],
   "source": [
    "import csv\n",
    "with open('Data_Set_S1.txt','r') as fi:\n",
    "    labMT = csv.reader(fi, delimiter = '\\t')\n",
    "    labMT = {x[0]:x[2] for x in labMT}"
   ]
  },
  {
   "cell_type": "code",
   "execution_count": 85,
   "metadata": {
    "collapsed": true
   },
   "outputs": [],
   "source": [
    "def Sentiment(tok):\n",
    "    fdist = nltk.FreqDist(tok)\n",
    "    sentiment = 0    #Returned value\n",
    "    n = 0    #Number of words in the text that match the wordlist\n",
    "    for word in fdist:\n",
    "        if word in labMT.keys():\n",
    "            #Add the happiness level times the number of occurence of the word\n",
    "            sentiment += float(labMT[word]) * fdist[word]\n",
    "            n += fdist[word]\n",
    "    try:\n",
    "        #Returns the average sentiment\n",
    "        sentiment /= n\n",
    "        return sentiment\n",
    "    except:\n",
    "        #If no word matches (ie n=0), raise an error\n",
    "        return 'No word with sentiment attached in the text'"
   ]
  },
  {
   "cell_type": "code",
   "execution_count": 89,
   "metadata": {
    "collapsed": false
   },
   "outputs": [
    {
     "name": "stdout",
     "output_type": "stream",
     "text": [
      "*** Introductory Examples for the NLTK Book ***\n",
      "Loading text1, ..., text9 and sent1, ..., sent9\n",
      "Type the name of the text or sentence to view it.\n",
      "Type: 'texts()' or 'sents()' to list the materials.\n",
      "text1: Moby Dick by Herman Melville 1851\n",
      "text2: Sense and Sensibility by Jane Austen 1811\n",
      "text3: The Book of Genesis\n",
      "text4: Inaugural Address Corpus\n",
      "text5: Chat Corpus\n",
      "text6: Monty Python and the Holy Grail\n",
      "text7: Wall Street Journal\n",
      "text8: Personals Corpus\n",
      "text9: The Man Who Was Thursday by G . K . Chesterton 1908\n"
     ]
    }
   ],
   "source": [
    "from nltk.book import *"
   ]
  },
  {
   "cell_type": "code",
   "execution_count": 97,
   "metadata": {
    "collapsed": false
   },
   "outputs": [],
   "source": [
    "aa = []\n",
    "for ii in range(len(text1)/50):\n",
    "    aa += [Sentiment(text1[50*ii : 50*(ii+1)])]"
   ]
  },
  {
   "cell_type": "code",
   "execution_count": 106,
   "metadata": {
    "collapsed": false
   },
   "outputs": [],
   "source": [
    "import matplotlib.pyplot as plt\n",
    "\n",
    "for i in range(len(aa)):\n",
    "    if type(aa[i]) != type(1.):\n",
    "        aa[i] = null\n",
    "        \n",
    "plt.plot([i for i in range(len(aa))],aa)\n",
    "plt.show()"
   ]
  },
  {
   "cell_type": "code",
   "execution_count": 111,
   "metadata": {
    "collapsed": false
   },
   "outputs": [
    {
     "name": "stdout",
     "output_type": "stream",
     "text": [
      "2\n"
     ]
    }
   ],
   "source": [
    "aa =['JUVjhvza'.lower(),'kezjbze']\n",
    "\n",
    "print len(set(x for x in aa))"
   ]
  }
 ],
 "metadata": {
  "kernelspec": {
   "display_name": "Python 2",
   "language": "python",
   "name": "python2"
  },
  "language_info": {
   "codemirror_mode": {
    "name": "ipython",
    "version": 2
   },
   "file_extension": ".py",
   "mimetype": "text/x-python",
   "name": "python",
   "nbconvert_exporter": "python",
   "pygments_lexer": "ipython2",
   "version": "2.7.11"
  }
 },
 "nbformat": 4,
 "nbformat_minor": 0
}
