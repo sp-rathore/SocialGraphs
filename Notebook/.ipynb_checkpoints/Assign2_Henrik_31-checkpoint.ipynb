{
 "cells": [
  {
   "cell_type": "markdown",
   "metadata": {},
   "source": [
    "# Assignment 2\n",
    "\n",
    "Modules used for the assignment"
   ]
  },
  {
   "cell_type": "code",
   "execution_count": 1,
   "metadata": {
    "collapsed": true
   },
   "outputs": [],
   "source": [
    "import io\n",
    "import re\n",
    "import os\n",
    "import operator\n",
    "import community\n",
    "from collections import Counter\n",
    "from collections import defaultdict\n",
    "from bisect import bisect_left\n",
    "import pandas as pd\n",
    "import urllib2\n",
    "import json\n",
    "import networkx as nx\n",
    "import matplotlib.pyplot as plt\n",
    "import numpy as np\n",
    "from __future__ import division\n",
    "\n",
    "%matplotlib inline"
   ]
  },
  {
   "cell_type": "markdown",
   "metadata": {},
   "source": [
    "## Part 1: Advanced Network Structure\n",
    ">We start by looking at the structure of the the philosopher network using the more complicated network measures. If your network has more than one component, just work on the _giant connected component_ (GCC) in the exercises below (in a directed graph use the [_weakly_ connected component](https://networkx.github.io/documentation/networkx-1.9.1/reference/algorithms.component.html)).\n",
    "\n",
    ">Not all of the measures we'll be considering below are defined for directed graphs, thus begin by creating an [undirected version](https://networkx.github.io/documentation/networkx-1.9.1/reference/generated/networkx.DiGraph.to_undirected.html) of the philosopher graph, that we can use whenever needed. Only use the undirected graph when explicitly stated in the exercise."
   ]
  },
  {
   "cell_type": "code",
   "execution_count": 2,
   "metadata": {
    "collapsed": false
   },
   "outputs": [
    {
     "name": "stdout",
     "output_type": "stream",
     "text": [
      "['aestheticians', 'epistemologists', 'ethicists', 'logicians', 'metaphysicians', 'political']\n"
     ]
    }
   ],
   "source": [
    "list_of_philo=[] # This list will contain the branches.\n",
    "list_of_list=[] # This list will a list for each branch which will contain all the names \n",
    "philo_loc = 'philo/'\n",
    "\n",
    "for files in os.listdir(philo_loc):\n",
    "    if files.endswith(\".txt\"):\n",
    "        f = io.open(philo_loc+files, 'r', encoding='utf-8')\n",
    "        link = re.findall(r'\\*.*\\[\\[(.+?)\\]\\]?',f.read())\n",
    "        name = []\n",
    "        for k in link:\n",
    "            name += [k.split('|')[0]]\n",
    "        list_of_philo += [files.split('.')[0]]\n",
    "        list_of_list += [name]\n",
    "print list_of_philo"
   ]
  },
  {
   "cell_type": "code",
   "execution_count": 3,
   "metadata": {
    "collapsed": true
   },
   "outputs": [],
   "source": [
    "set_of_philosophers =set()\n",
    "\n",
    "for branch in range(len(list_of_list)):\n",
    "    for name in list_of_list[branch]:\n",
    "        set_of_philosophers.add(name)"
   ]
  },
  {
   "cell_type": "code",
   "execution_count": 4,
   "metadata": {
    "collapsed": false
   },
   "outputs": [
    {
     "name": "stdout",
     "output_type": "stream",
     "text": [
      "[(u'Christian Wolff (philosopher)', u'Gottfried Leibniz'), (u'Christian Wolff (philosopher)', u'Aristotle'), (u'Christian Wolff (philosopher)', u'Thomas Aquinas'), (u'Christian Wolff (philosopher)', u'Immanuel Kant'), (u'Christian Wolff (philosopher)', u'Alexander Gottlieb Baumgarten'), (u'Christian Wolff (philosopher)', u'Immanuel Kant'), (u'Christian Wolff (philosopher)', u'Gottfried Leibniz'), (u'Christian Wolff (philosopher)', u'Confucius'), (u'Christian Wolff (philosopher)', u'Voltaire'), (u'Christian Wolff (philosopher)', u'Voltaire')]\n"
     ]
    }
   ],
   "source": [
    "list_of_philosophers = list(set_of_philosophers)\n",
    "match = []\n",
    "json_loc = 'json/'\n",
    "\n",
    "for philosoherps in list_of_philosophers:\n",
    "    filename = philosoherps.replace(' ', '_')\n",
    "    with io.open(json_loc+filename+\".txt\",'r',encoding='utf-8') as files:\n",
    "        link = re.findall(r'\\[\\[(.+?)\\]\\]?',files.read())\n",
    "        for item in link:\n",
    "            item = item.split('|')[0]\n",
    "            if item in list_of_philosophers:\n",
    "                match.append((philosoherps, item))\n",
    "print match[:10]"
   ]
  },
  {
   "cell_type": "code",
   "execution_count": 5,
   "metadata": {
    "collapsed": false
   },
   "outputs": [],
   "source": [
    "Full_DiG = nx.DiGraph()\n",
    "Full_DiG.add_edges_from(match)"
   ]
  },
  {
   "cell_type": "code",
   "execution_count": 6,
   "metadata": {
    "collapsed": false
   },
   "outputs": [],
   "source": [
    "DiG = max(nx.weakly_connected_component_subgraphs(Full_DiG,copy=True),key=len)\n",
    "UnG = DiG.to_undirected()"
   ]
  },
  {
   "cell_type": "markdown",
   "metadata": {},
   "source": [
    "<hr>"
   ]
  },
  {
   "cell_type": "markdown",
   "metadata": {},
   "source": [
    "* Find the 5 most central philosophers according to [betweenness centrality](https://networkx.github.io/documentation/networkx-1.9.1/reference/generated/networkx.algorithms.centrality.betweenness_centrality.html). What role do you imagine philosophers with high wikipedia graph betweenness centrality play in the history of philosophy?"
   ]
  },
  {
   "cell_type": "code",
   "execution_count": 7,
   "metadata": {
    "collapsed": false
   },
   "outputs": [
    {
     "name": "stdout",
     "output_type": "stream",
     "text": [
      "Philosopher: Immanuel Kant. \t Betweenness centrality value: 0.0883788716806.\n",
      "Philosopher: Bertrand Russell. \t Betweenness centrality value: 0.0772155196034.\n",
      "Philosopher: David Hume. \t Betweenness centrality value: 0.0570443633056.\n",
      "Philosopher: Aristotle. \t Betweenness centrality value: 0.0557721733381.\n",
      "Philosopher: Plato. \t Betweenness centrality value: 0.0532717870671.\n"
     ]
    }
   ],
   "source": [
    "b_cen_dict = nx.betweenness_centrality(DiG)\n",
    "sorted_b_cen = sorted(b_cen_dict.items(), key=operator.itemgetter(1),reverse=True)\n",
    "for i in range(5):\n",
    "    print \"Philosopher: %s. \\t Betweenness centrality value: %s.\" %(sorted_b_cen[i][0],sorted_b_cen[i][1])"
   ]
  },
  {
   "cell_type": "markdown",
   "metadata": {},
   "source": [
    "A high value of betweenness centrality would indicate that the work of the philosopher have a great influence on the surrounding nodes (philosophers)."
   ]
  },
  {
   "cell_type": "markdown",
   "metadata": {},
   "source": [
    "<hr>"
   ]
  },
  {
   "cell_type": "markdown",
   "metadata": {},
   "source": [
    "* Find the 5 most central philosophers according to [eigenvector centrality](https://networkx.github.io/documentation/networkx-1.9.1/reference/generated/networkx.algorithms.centrality.eigenvector_centrality.html). Calculate centrality corresponding to both in- and out-edges (see NetworkX documentation for details). How is eigenvector centrality difference from degree centrality? Compare your results for eigenvector centrality to the results for betweenness centrality - does the difference make sense when you read the philosopher's wikipedia pages?"
   ]
  },
  {
   "cell_type": "code",
   "execution_count": 8,
   "metadata": {
    "collapsed": true
   },
   "outputs": [],
   "source": [
    "in_eig_cen = nx.eigenvector_centrality(DiG)\n",
    "out_eig_cen = DiG.reverse()\n",
    "out_eig_cen = nx.eigenvector_centrality(out_eig_cen)\n",
    "sorted_in_eig_cen= sorted(in_eig_cen.items(), key=operator.itemgetter(1),reverse=True)\n",
    "sorted_out_eig_cen= sorted(out_eig_cen.items(), key=operator.itemgetter(1),reverse=True)"
   ]
  },
  {
   "cell_type": "code",
   "execution_count": 9,
   "metadata": {
    "collapsed": false
   },
   "outputs": [
    {
     "name": "stdout",
     "output_type": "stream",
     "text": [
      "Philosopher: Immanuel Kant. \t \t in degree Eigenvector centrality value: 0.319880654521.\n",
      "Philosopher: Aristotle. \t \t in degree Eigenvector centrality value: 0.272656582395.\n",
      "Philosopher: Bertrand Russell. \t \t in degree Eigenvector centrality value: 0.24156788721.\n",
      "Philosopher: Plato. \t \t in degree Eigenvector centrality value: 0.219071695844.\n",
      "Philosopher: Friedrich Nietzsche. \t \t in degree Eigenvector centrality value: 0.202379848167.\n"
     ]
    }
   ],
   "source": [
    "for i in range(5):\n",
    "    print \"Philosopher: %s. \\t \\t in degree Eigenvector centrality value: %s.\" %(sorted_in_eig_cen[i][0],sorted_in_eig_cen[i][1])"
   ]
  },
  {
   "cell_type": "code",
   "execution_count": 10,
   "metadata": {
    "collapsed": false
   },
   "outputs": [
    {
     "name": "stdout",
     "output_type": "stream",
     "text": [
      "Philosopher: Georg Wilhelm Friedrich Hegel. \t \t out degree Eigenvector centrality value: 0.203208386646.\n",
      "Philosopher: Martin Heidegger. \t \t out degree Eigenvector centrality value: 0.189233785054.\n",
      "Philosopher: Friedrich Nietzsche. \t \t out degree Eigenvector centrality value: 0.187733490961.\n",
      "Philosopher: Immanuel Kant. \t \t out degree Eigenvector centrality value: 0.18273332905.\n",
      "Philosopher: Michel Foucault. \t \t out degree Eigenvector centrality value: 0.153020412693.\n"
     ]
    }
   ],
   "source": [
    "for i in range(5):\n",
    "    print \"Philosopher: %s. \\t \\t out degree Eigenvector centrality value: %s.\" %(sorted_out_eig_cen[i][0],sorted_out_eig_cen[i][1])"
   ]
  },
  {
   "cell_type": "markdown",
   "metadata": {},
   "source": [
    "A high in degree eigenvector centrality does not tells us that the node have many links going to it, but how many relevant/important nodes link to it. The degree centrality only look at how many links is going to a node and nothing else, where as Eigenvector centrality make a node important if it link to by other importants nodes.\n",
    "\n",
    "The values from Eigenvector centrality... (see [Eigenvector centrality](http://www.sci.unich.it/~francesc/teaching/network/eigenvector.html) for more info)"
   ]
  },
  {
   "cell_type": "markdown",
   "metadata": {},
   "source": [
    "<hr>"
   ]
  },
  {
   "cell_type": "markdown",
   "metadata": {},
   "source": [
    "* Is the _undirected version_ of the graph [assortative with respect do degree](https://networkx.github.io/documentation/networkx-1.9.1/reference/generated/networkx.algorithms.assortativity.degree_assortativity_coefficient.html#networkx.algorithms.assortativity.degree_assortativity_coefficient)? (e.g. do high-degree philosophers tend to link to other high-degree philosophers, and low-degree philosophers to other low-degree philosophers?). Provide an interpretation of your answer!"
   ]
  },
  {
   "cell_type": "code",
   "execution_count": 11,
   "metadata": {
    "collapsed": false
   },
   "outputs": [
    {
     "name": "stdout",
     "output_type": "stream",
     "text": [
      "-0.0749333563328\n"
     ]
    }
   ],
   "source": [
    "r = nx.degree_assortativity_coefficient(UnG)\n",
    "print r"
   ]
  },
  {
   "cell_type": "markdown",
   "metadata": {},
   "source": [
    "A negative value indicate that smiliar high-degree philosohers do not  tend to link to other high-degree."
   ]
  },
  {
   "cell_type": "markdown",
   "metadata": {},
   "source": [
    "<hr>\n",
    "\n",
    "> We will now run community detection on the full philosopher network."
   ]
  },
  {
   "cell_type": "code",
   "execution_count": 12,
   "metadata": {
    "collapsed": false
   },
   "outputs": [],
   "source": [
    "set_aes = set()\n",
    "set_epi = set()\n",
    "set_eth = set()\n",
    "set_log = set()\n",
    "set_met = set()\n",
    "set_pol = set()\n",
    "\n",
    "for i in range(len(list_of_list)):\n",
    "    for item in list_of_list[i]:\n",
    "        if i == 0:\n",
    "            set_aes.add(item)\n",
    "        elif i == 1:\n",
    "            set_epi.add(item)\n",
    "        elif i == 2:\n",
    "            set_eth.add(item)\n",
    "        elif i == 3:\n",
    "            set_log.add(item)\n",
    "        elif i == 4:\n",
    "            set_met.add(item)\n",
    "        else:\n",
    "            set_pol.add(item)"
   ]
  },
  {
   "cell_type": "code",
   "execution_count": 13,
   "metadata": {
    "collapsed": false
   },
   "outputs": [
    {
     "name": "stdout",
     "output_type": "stream",
     "text": [
      "2\n",
      "0\n",
      "1\n",
      "0\n",
      "0\n",
      "0\n"
     ]
    }
   ],
   "source": [
    "xyz ={}\n",
    "for i in range(len(match)):\n",
    "    if xyz.has_key(match[i][0]):\n",
    "        ph_str = str(match[i][0].encode('utf8'))\n",
    "        if match[i][1] in set_aes:\n",
    "            xyz[ph_str][0].add(match[i][1])\n",
    "        elif match[i][1] in set_epi:\n",
    "            xyz[ph_str][1].add(match[i][1])\n",
    "        elif match[i][1] in set_eth:\n",
    "            xyz[ph_str][2].add(match[i][1])\n",
    "        elif match[i][1] in set_log:\n",
    "            xyz[ph_str][3].add(match[i][1])\n",
    "        elif match[i][1] in set_met:\n",
    "            xyz[ph_str][4].add(match[i][1])\n",
    "        elif match[i][1] in set_pol:\n",
    "            xyz[ph_str][5].add(match[i][1])\n",
    "    else:\n",
    "        ph_str = str(match[i][0].encode('utf8'))\n",
    "        xyz[ph_str] = [set(),set(),set(),set(),set(),set()]\n",
    "for item in xyz['Eli Siegel']:\n",
    "    print len(item)"
   ]
  },
  {
   "cell_type": "code",
   "execution_count": 14,
   "metadata": {
    "collapsed": false
   },
   "outputs": [
    {
     "name": "stdout",
     "output_type": "stream",
     "text": [
      "108 46 160 188 20 132\n"
     ]
    }
   ],
   "source": [
    "list_of_sets = [set_aes,set_epi,set_eth,set_log,set_met,set_pol]\n",
    "def delPhilo(key,index):\n",
    "    for i in range(len(list_of_sets)):\n",
    "        if index != i:\n",
    "            list_of_sets[i].discard(key)\n",
    "\n",
    "for key in xyz.keys():\n",
    "    _ = max(enumerate(xyz[key]), key = lambda tup: len(tup[1]))\n",
    "    delPhilo(key,_[0])\n",
    "print len(set_aes),len(set_epi),len(set_eth),len(set_log),len(set_met),len(set_pol)"
   ]
  },
  {
   "cell_type": "code",
   "execution_count": 15,
   "metadata": {
    "collapsed": false
   },
   "outputs": [
    {
     "name": "stdout",
     "output_type": "stream",
     "text": [
      "The modularity for set_aes is 0.0555519537678.\n",
      "The modularity for set_epi is 0.00652070892047.\n",
      "The modularity for set_eth is 0.05778112768.\n",
      "The modularity for set_log is 0.164654741876.\n",
      "The modularity for set_met is 0.000363149013884.\n",
      "The modularity for set_pol is 0.039812172423.\n",
      "The modularity for the whole network is 0.324683853682.\n"
     ]
    }
   ],
   "source": [
    "def getDeg (branch):\n",
    "    links = 0\n",
    "    degree = 0\n",
    "    for i in range(len(match)):\n",
    "        if match[i][0] in branch:\n",
    "            if match[i][1] in branch:\n",
    "                links = links + 1\n",
    "            else:\n",
    "                degree = degree + 1\n",
    "    _ = [links, degree]\n",
    "    return _\n",
    "\n",
    "def getMod ():\n",
    "    i = 0\n",
    "    ii = 0\n",
    "    list_of_set_str = ['set_aes','set_epi','set_eth','set_log','set_met','set_pol']\n",
    "    for item in list_of_sets:\n",
    "        _ = getDeg(item)\n",
    "        Mod = (_[0]/len(set(match)))-(_[1]/(2*len(set(match))))**2\n",
    "        print \"The modularity for %s is %s.\" %(list_of_set_str[i],Mod)\n",
    "        ii = Mod + ii\n",
    "        i = i + 1\n",
    "    print \"The modularity for the whole network is %s.\" %ii\n",
    "getMod()"
   ]
  },
  {
   "cell_type": "markdown",
   "metadata": {},
   "source": [
    "* Use [the Python Louvain-algorithm implementation](http://perso.crans.org/aynaud/communities/) to find communities in the full philosopher network. Report the value of modularity found by the algorithm. Is it higher or lower than what you found above for the branches as communities? What does this comparison reveal about the branches?\n",
    "   * \\[**Note**: This implementation is now available as Anaconda package. Install with `conda` as expained [here](https://anaconda.org/auto/python-louvain)\\].\n",
    "   * You can also try the *Infomap* algorithm instead if you're curious. Go to [this page](http://www.mapequation.org/code.html) and search for 'python'. It's harder to install, but a better community detection algorithm."
   ]
  },
  {
   "cell_type": "code",
   "execution_count": 16,
   "metadata": {
    "collapsed": true
   },
   "outputs": [],
   "source": [
    "Full_UnG = Full_DiG.to_undirected()"
   ]
  },
  {
   "cell_type": "code",
   "execution_count": 17,
   "metadata": {
    "collapsed": false
   },
   "outputs": [
    {
     "data": {
      "text/plain": [
       "0.4530719809236054"
      ]
     },
     "execution_count": 17,
     "metadata": {},
     "output_type": "execute_result"
    }
   ],
   "source": [
    "part = community.best_partition(Full_UnG)# Use Loucian on full network\n",
    "community.modularity(part, Full_UnG)# Print the value od modularity"
   ]
  },
  {
   "cell_type": "markdown",
   "metadata": {},
   "source": [
    "# Comment on comparsion!!!!!"
   ]
  },
  {
   "cell_type": "markdown",
   "metadata": {},
   "source": [
    "* Compare the communities found by your algorithm with the branches of philosophy (see [Lecture 5](http://nbviewer.jupyter.org/github/suneman/socialgraphs2016/blob/master/lectures/Week5.ipynb) for details on the branches) by creating a matrix **_D_** with dimension (_B_ times _C_), where _B_ is the number of branches and _C_ is the number of communities. We set entry _D_(_i_,_j_) to be the number of nodes that branch _i_ has in common with community _j_. The matrix **_D_** is what we call a [**confusion matrix**](https://en.wikipedia.org/wiki/Confusion_matrix). Use the confusion matrix to explain how well the communities you've detected correspond to the labeled branches of philosophy."
   ]
  },
  {
   "cell_type": "code",
   "execution_count": 18,
   "metadata": {
    "collapsed": false
   },
   "outputs": [
    {
     "name": "stdout",
     "output_type": "stream",
     "text": [
      "6 21\n",
      "[1, 1, 1, 1, 1, 1]\n",
      "[1, 1, 1, 1, 0, 1]\n",
      "[1, 0, 1, 1, 1, 0]\n",
      "[1, 1, 1, 1, 0, 1]\n",
      "[1, 1, 1, 1, 1, 1]\n",
      "[1, 0, 1, 0, 0, 1]\n",
      "[1, 1, 1, 0, 0, 1]\n",
      "[0, 0, 1, 0, 0, 0]\n",
      "[1, 1, 1, 1, 0, 1]\n",
      "[0, 0, 1, 0, 0, 1]\n",
      "[0, 0, 0, 0, 0, 1]\n",
      "[0, 0, 1, 1, 0, 0]\n",
      "[0, 0, 0, 0, 0, 0]\n",
      "[0, 0, 0, 1, 0, 0]\n",
      "[0, 0, 0, 1, 0, 0]\n",
      "[0, 0, 0, 1, 0, 0]\n",
      "[0, 0, 0, 1, 0, 0]\n",
      "[0, 0, 0, 0, 0, 0]\n",
      "[0, 1, 0, 0, 0, 1]\n",
      "[0, 0, 1, 0, 0, 0]\n",
      "[0, 0, 0, 1, 0, 0]\n"
     ]
    }
   ],
   "source": [
    "w, h = len(list_of_sets), len(set(part.values())) \n",
    "Matrix = [[0 for x in range(w)] for y in range(h)]\n",
    "print w, h\n",
    "for key in part.keys():\n",
    "    if key in set_aes:\n",
    "        Matrix[part[key]][0] =1\n",
    "    elif key in set_epi:\n",
    "        Matrix[part[key]][1] =1\n",
    "    elif key in set_eth:\n",
    "        Matrix[part[key]][2] =1\n",
    "    elif key in set_log:\n",
    "        Matrix[part[key]][3] =1\n",
    "    elif key in set_met:\n",
    "        Matrix[part[key]][4] =1\n",
    "    elif key in set_pol:\n",
    "        Matrix[part[key]][5] =1\n",
    "\n",
    "for row in Matrix:\n",
    "    print row"
   ]
  },
  {
   "cell_type": "markdown",
   "metadata": {},
   "source": [
    "# Comment on exercise!!!!!"
   ]
  },
  {
   "cell_type": "markdown",
   "metadata": {},
   "source": [
    "# Part II: Human navigation paths \n",
    "\n",
    "> This exercise works on the wikispeedia dataset. For details on wikispeedia, see [Lecture 8](http://nbviewer.jupyter.org/github/suneman/socialgraphs2016/blob/master/lectures/Week5.ipynb) "
   ]
  },
  {
   "cell_type": "code",
   "execution_count": 19,
   "metadata": {
    "collapsed": false
   },
   "outputs": [],
   "source": [
    "location_unf = 'Week 8/wikispeedia_paths-and-graph/paths_unfinished.tsv'\n",
    "location_fin = 'Week 8/wikispeedia_paths-and-graph/paths_finished.tsv'\n",
    "location_links = 'Week 8/wikispeedia_paths-and-graph/links.tsv'\n",
    "df1 = pd.read_csv(location_unf, sep='\\t',encoding='utf-8',skiprows=16, names=['hashedIpAddress','timestamp','durationInSec','path','target','type'])\n",
    "df2 = pd.read_csv(location_fin, sep='\\t',encoding='utf-8',skiprows=16, names=['hashedIpAddress','timestamp','durationInSec','path','rating'])\n",
    "df3 = pd.read_csv(location_links, sep='\\t',encoding='utf-8',skiprows=12, names=['linkSource','linkTarget'])"
   ]
  },
  {
   "cell_type": "code",
   "execution_count": 20,
   "metadata": {
    "collapsed": false
   },
   "outputs": [
    {
     "data": {
      "text/html": [
       "<div>\n",
       "<table border=\"1\" class=\"dataframe\">\n",
       "  <thead>\n",
       "    <tr style=\"text-align: right;\">\n",
       "      <th></th>\n",
       "      <th>hashedIpAddress</th>\n",
       "      <th>timestamp</th>\n",
       "      <th>durationInSec</th>\n",
       "      <th>path</th>\n",
       "      <th>rating</th>\n",
       "    </tr>\n",
       "  </thead>\n",
       "  <tbody>\n",
       "    <tr>\n",
       "      <th>0</th>\n",
       "      <td>6a3701d319fc3754</td>\n",
       "      <td>1297740409</td>\n",
       "      <td>166</td>\n",
       "      <td>14th_century;15th_century;16th_century;Pacific...</td>\n",
       "      <td>NaN</td>\n",
       "    </tr>\n",
       "    <tr>\n",
       "      <th>1</th>\n",
       "      <td>3824310e536af032</td>\n",
       "      <td>1344753412</td>\n",
       "      <td>88</td>\n",
       "      <td>14th_century;Europe;Africa;Atlantic_slave_trad...</td>\n",
       "      <td>3</td>\n",
       "    </tr>\n",
       "    <tr>\n",
       "      <th>2</th>\n",
       "      <td>415612e93584d30e</td>\n",
       "      <td>1349298640</td>\n",
       "      <td>138</td>\n",
       "      <td>14th_century;Niger;Nigeria;British_Empire;Slav...</td>\n",
       "      <td>NaN</td>\n",
       "    </tr>\n",
       "    <tr>\n",
       "      <th>3</th>\n",
       "      <td>64dd5cd342e3780c</td>\n",
       "      <td>1265613925</td>\n",
       "      <td>37</td>\n",
       "      <td>14th_century;Renaissance;Ancient_Greece;Greece</td>\n",
       "      <td>NaN</td>\n",
       "    </tr>\n",
       "    <tr>\n",
       "      <th>4</th>\n",
       "      <td>015245d773376aab</td>\n",
       "      <td>1366730828</td>\n",
       "      <td>175</td>\n",
       "      <td>14th_century;Italy;Roman_Catholic_Church;HIV;R...</td>\n",
       "      <td>3</td>\n",
       "    </tr>\n",
       "  </tbody>\n",
       "</table>\n",
       "</div>"
      ],
      "text/plain": [
       "    hashedIpAddress   timestamp  durationInSec  \\\n",
       "0  6a3701d319fc3754  1297740409            166   \n",
       "1  3824310e536af032  1344753412             88   \n",
       "2  415612e93584d30e  1349298640            138   \n",
       "3  64dd5cd342e3780c  1265613925             37   \n",
       "4  015245d773376aab  1366730828            175   \n",
       "\n",
       "                                                path  rating  \n",
       "0  14th_century;15th_century;16th_century;Pacific...     NaN  \n",
       "1  14th_century;Europe;Africa;Atlantic_slave_trad...       3  \n",
       "2  14th_century;Niger;Nigeria;British_Empire;Slav...     NaN  \n",
       "3     14th_century;Renaissance;Ancient_Greece;Greece     NaN  \n",
       "4  14th_century;Italy;Roman_Catholic_Church;HIV;R...       3  "
      ]
     },
     "execution_count": 20,
     "metadata": {},
     "output_type": "execute_result"
    }
   ],
   "source": [
    "df2[:5]"
   ]
  },
  {
   "cell_type": "markdown",
   "metadata": {},
   "source": [
    "# Comment on why we remove invalid node!!!!"
   ]
  },
  {
   "cell_type": "code",
   "execution_count": 21,
   "metadata": {
    "collapsed": false
   },
   "outputs": [],
   "source": [
    "invalid_node = 'Wikipedia_Text_of_the_GNU_Free_Documentation_License'\n",
    "count = 0\n",
    "for row in range(len(df2)):\n",
    "    row_str = df2.get_value(row,'path')\n",
    "    row_split = row_str.split(';')\n",
    "    if invalid_node in row_split:\n",
    "        df2.drop(df2.index[row-count], inplace=True)\n",
    "        count = count +1\n",
    "df2.reset_index(inplace=True)"
   ]
  },
  {
   "cell_type": "code",
   "execution_count": null,
   "metadata": {
    "collapsed": false
   },
   "outputs": [],
   "source": []
  },
  {
   "cell_type": "markdown",
   "metadata": {},
   "source": [
    "### IIa: Path lengths\n",
    "\n",
    "> The first thing we want to take a look at is path lengths. NetworkX allows us to calculate the shortest path between any pair of articles. We begin by comparing the length of human and shortests paths. \n",
    "\n",
    "* For each _source_/_target_ pair in the list of human navigation paths, calculate the shortest path using NetworkX. Plot the distribution of path lengths."
   ]
  },
  {
   "cell_type": "code",
   "execution_count": 22,
   "metadata": {
    "collapsed": true
   },
   "outputs": [],
   "source": [
    "DG = nx.DiGraph()\n",
    "count = 0\n",
    "for row in df3.itertuples():\n",
    "    DG.add_edge(row[1],row[2])"
   ]
  },
  {
   "cell_type": "code",
   "execution_count": 23,
   "metadata": {
    "collapsed": true
   },
   "outputs": [],
   "source": [
    "p=nx.shortest_path_length(DG)"
   ]
  },
  {
   "cell_type": "code",
   "execution_count": 24,
   "metadata": {
    "collapsed": true
   },
   "outputs": [],
   "source": [
    "list_of_numbers = []\n",
    "i = 0\n",
    "for source_node in p:\n",
    "    for key in p[source_node]:\n",
    "        list_of_numbers.append(p[source_node][key])"
   ]
  },
  {
   "cell_type": "code",
   "execution_count": 25,
   "metadata": {
    "collapsed": true
   },
   "outputs": [],
   "source": [
    "d_freq = Counter(list_of_numbers)"
   ]
  },
  {
   "cell_type": "code",
   "execution_count": 26,
   "metadata": {
    "collapsed": false
   },
   "outputs": [
    {
     "data": {
      "text/plain": [
       "[<matplotlib.lines.Line2D at 0x151121bd0>]"
      ]
     },
     "execution_count": 26,
     "metadata": {},
     "output_type": "execute_result"
    },
    {
     "data": {
      "image/png": "[encoded data removed]",
      "text/plain": [
       "<matplotlib.figure.Figure at 0x10a76c8d0>"
      ]
     },
     "metadata": {},
     "output_type": "display_data"
    }
   ],
   "source": [
    "plt.figure(num=None, figsize=(27, 9), dpi=1200)\n",
    "plt.plot(d_freq.keys(),d_freq.values())"
   ]
  },
  {
   "cell_type": "markdown",
   "metadata": {},
   "source": [
    "* For each _source_/_target_ pair, calculate the length of the human path. The dataset contains information on people who regret a navigation step and hit the \"back\" button in their web-browser. It's up to you how to incorporate that information in the path. Justify your choice. Plot the distribution of human path lengths. "
   ]
  },
  {
   "cell_type": "code",
   "execution_count": 27,
   "metadata": {
    "collapsed": false
   },
   "outputs": [],
   "source": [
    "list_of_human_path = []\n",
    "for row in range(len(df2)):\n",
    "    list_of_human_path.append(df2.get_value(row,'path').count(';'))"
   ]
  },
  {
   "cell_type": "code",
   "execution_count": 28,
   "metadata": {
    "collapsed": false
   },
   "outputs": [],
   "source": [
    "human_path_freq = Counter(list_of_human_path)"
   ]
  },
  {
   "cell_type": "code",
   "execution_count": 29,
   "metadata": {
    "collapsed": false
   },
   "outputs": [
    {
     "data": {
      "text/plain": [
       "[<matplotlib.lines.Line2D at 0x15151cdd0>,\n",
       " <matplotlib.lines.Line2D at 0x15151cfd0>]"
      ]
     },
     "execution_count": 29,
     "metadata": {},
     "output_type": "execute_result"
    },
    {
     "data": {
      "image/png": "[encoded data removed]",
      "text/plain": [
       "<matplotlib.figure.Figure at 0x1a4828bd0>"
      ]
     },
     "metadata": {},
     "output_type": "display_data"
    }
   ],
   "source": [
    "plt.figure(num=None, figsize=(27, 9), dpi=10)\n",
    "plt.plot(human_path_freq.keys(),human_path_freq.values(),human_path_freq.keys(),human_path_freq.values(),'o',lw=5,mew=5)"
   ]
  },
  {
   "cell_type": "markdown",
   "metadata": {},
   "source": [
    "* How much longer are the human paths on average?"
   ]
  },
  {
   "cell_type": "code",
   "execution_count": 30,
   "metadata": {
    "collapsed": false
   },
   "outputs": [
    {
     "name": "stdout",
     "output_type": "stream",
     "text": [
      "The human path is 2.5506864827 longer than shorest path on average.\n"
     ]
    }
   ],
   "source": [
    "human_path_mean = sum(list_of_human_path)/len(list_of_human_path)\n",
    "shor_path_mean = sum(list_of_numbers)/len(list_of_numbers)\n",
    "\n",
    "print 'The human path is %s longer than shorest path on average.' %(human_path_mean-shor_path_mean)"
   ]
  },
  {
   "cell_type": "markdown",
   "metadata": {},
   "source": [
    "# For return link we have include them as the overall path"
   ]
  },
  {
   "cell_type": "markdown",
   "metadata": {},
   "source": [
    "<hr>"
   ]
  },
  {
   "cell_type": "markdown",
   "metadata": {},
   "source": [
    "* Create scatter plot where each point is a _source_/_target_ pair, and you have human path lengths on the $x$-axis and shortests paths on the $y$-axis."
   ]
  },
  {
   "cell_type": "code",
   "execution_count": 31,
   "metadata": {
    "collapsed": true
   },
   "outputs": [],
   "source": [
    "path_visited = {}\n",
    "list_of_shortpath = []\n",
    "def findShortPath(pair):\n",
    "    if pair in path_visited.keys():\n",
    "        list_of_shortpath.append(path_visited[pair])\n",
    "    else:\n",
    "        source = pair.split(',')[0]\n",
    "        target = pair.split(',')[1]\n",
    "        try:\n",
    "            _ = len(nx.shortest_path(DG, source=source, target=target))-1\n",
    "            path_visited[pair] = _\n",
    "            list_of_shortpath.append(_)\n",
    "        except:\n",
    "            print 'Node do not exist.'"
   ]
  },
  {
   "cell_type": "code",
   "execution_count": 32,
   "metadata": {
    "collapsed": false
   },
   "outputs": [],
   "source": [
    "for row in range(len(df2)):\n",
    "    row_str = df2.get_value(row,'path')\n",
    "    row_split = row_str.split(';')\n",
    "    source = row_split[0].decode('utf-8')\n",
    "    target = row_split[len(row_split)-1].decode('utf-8')\n",
    "    pair = source+','+target\n",
    "    findShortPath(pair)"
   ]
  },
  {
   "cell_type": "code",
   "execution_count": 33,
   "metadata": {
    "collapsed": false
   },
   "outputs": [
    {
     "name": "stdout",
     "output_type": "stream",
     "text": [
      "51280 51280\n"
     ]
    }
   ],
   "source": [
    "print len(list_of_human_path),len(list_of_shortpath)"
   ]
  },
  {
   "cell_type": "code",
   "execution_count": 34,
   "metadata": {
    "collapsed": false
   },
   "outputs": [
    {
     "data": {
      "text/plain": [
       "<matplotlib.text.Text at 0x113c2ca10>"
      ]
     },
     "execution_count": 34,
     "metadata": {},
     "output_type": "execute_result"
    },
    {
     "data": {
      "image/png": "[encoded data removed]",
      "text/plain": [
       "<matplotlib.figure.Figure at 0x1a4895790>"
      ]
     },
     "metadata": {},
     "output_type": "display_data"
    }
   ],
   "source": [
    "plt.figure(num=None, figsize=(27, 9))\n",
    "plt.scatter(list_of_human_path,list_of_shortpath)\n",
    "plt.ylabel('Shortest path')\n",
    "plt.xlabel('Human path')\n",
    "plt.title('Human path vs shortest path')"
   ]
  },
  {
   "cell_type": "markdown",
   "metadata": {},
   "source": [
    "* Is there a correlation between human/shortest path-lengths? What is the correlation."
   ]
  },
  {
   "cell_type": "markdown",
   "metadata": {
    "collapsed": true
   },
   "source": [
    "<hr>\n",
    "### IIb: Betweenness\n",
    "\n",
    "> An interesting definition of centrality is _betweenness centrality_. In a traditional setting, this measure calculates all shortest paths in the network and then each node gets a score according to which fraction of all shortest paths pass through that node.\n",
    "\n",
    "> In this part of the assignment, we create our own version of centrality, based on the _source_/_target_ pairs in our dataset. We define a nodes's **navigation centrality** as follows. \n",
    "\n",
    "> > *Navigation centrality* of node $i$ is the fraction of all naviagtion paths that pass through $i$. We exclude the source and target from the count. If a node has not been visited by a search, the navigation centrality of that node is defined to be zero.\n",
    "\n",
    "> Below, we investigate the relationship between navigation centrality and betweenness centrality."
   ]
  },
  {
   "cell_type": "markdown",
   "metadata": {},
   "source": [
    " >Begin by calculating the betweenness centrality and navigation centrality of all nodes in the wikispedia dataset.\n",
    "Note that calculating the betweenness centrality can take quite a long time, so you might start it running in a separate notebook while first estimating it based on the existing human path.\n",
    "\n",
    "* First, list the 5 pages with highest navigation centrality."
   ]
  },
  {
   "cell_type": "code",
   "execution_count": 65,
   "metadata": {
    "collapsed": false
   },
   "outputs": [],
   "source": [
    "##### Calculate navigation centrality\n",
    "navi_path = []\n",
    "for row_number in range(len(df2)):\n",
    "    row_str = df2.get_value(row_number,'path')\n",
    "    row_split = row_str.split(';')\n",
    "    if len(row_split) < 3:\n",
    "        pass\n",
    "    else:\n",
    "        end_point = len(row_split)-1\n",
    "        for node in range(1,end_point):\n",
    "            current_node = row_split[node].decode('utf-8')\n",
    "            if current_node != '<':\n",
    "                navi_path.append(current_node)\n",
    "            \n",
    "# Dict containing the navigation centrality for each node.\n",
    "navi_cen = Counter(navi_path)"
   ]
  },
  {
   "cell_type": "code",
   "execution_count": 66,
   "metadata": {
    "collapsed": false
   },
   "outputs": [
    {
     "name": "stdout",
     "output_type": "stream",
     "text": [
      "4592\n"
     ]
    }
   ],
   "source": [
    "#Find every unique node\n",
    "uni_node = set()\n",
    "for row in df3.itertuples():\n",
    "    uni_node.add(row[1])\n",
    "    uni_node.add(row[2])\n",
    "\n",
    "#Add nodes which have a navigation centrality of zero\n",
    "for node in uni_node:\n",
    "    if node not in navi_cen.keys():\n",
    "        navi_cen[node] = 0\n",
    "print len(navi_cen)"
   ]
  },
  {
   "cell_type": "code",
   "execution_count": 95,
   "metadata": {
    "collapsed": false
   },
   "outputs": [
    {
     "name": "stdout",
     "output_type": "stream",
     "text": [
      "Node \t\t\t Navigation_centrality \n",
      "\n",
      "United_States \t\t 8814\n",
      "Europe \t\t\t 4317\n",
      "United_Kingdom \t\t 3859\n",
      "Earth \t\t\t 3153\n",
      "England \t\t 3121\n"
     ]
    }
   ],
   "source": [
    "#listing the first five pages with highest navigation centrality\n",
    "print \"Node \\t\\t\\t Navigation_centrality \\n\"\n",
    "for pair in navi_cen.most_common(5):\n",
    "    if len(pair[0]) > 6:\n",
    "        print \"%s \\t\\t %s\" %(pair[0],pair[1])\n",
    "    else:\n",
    "        print \"%s \\t\\t\\t %s\" %(pair[0],pair[1])"
   ]
  },
  {
   "cell_type": "markdown",
   "metadata": {},
   "source": [
    "* Second, list the 5 pages with highest betweenness centrality."
   ]
  },
  {
   "cell_type": "code",
   "execution_count": 86,
   "metadata": {
    "collapsed": false
   },
   "outputs": [],
   "source": [
    "be_cen = nx.betweenness_centrality(DG)"
   ]
  },
  {
   "cell_type": "code",
   "execution_count": 94,
   "metadata": {
    "collapsed": false
   },
   "outputs": [
    {
     "name": "stdout",
     "output_type": "stream",
     "text": [
      "Node \t\t\t Betweenness centrality \n",
      "\n",
      "United_States \t\t 0.0940903732139\n",
      "United_Kingdom \t\t 0.0423844487843\n",
      "England \t\t 0.032402812854\n",
      "Europe \t\t\t 0.0269916994737\n",
      "Africa \t\t\t 0.0242041761902\n"
     ]
    }
   ],
   "source": [
    "sorted_be_cen = sorted(be_cen.items(), key=operator.itemgetter(1), reverse=True)\n",
    "print \"Node \\t\\t\\t Betweenness centrality \\n\"\n",
    "for i in range(5):\n",
    "    if len(sorted_be_cen[i][0]) > 6:\n",
    "        print \"%s \\t\\t %s\" %(sorted_be_cen[i][0],sorted_be_cen[i][1])\n",
    "    else:\n",
    "        print \"%s \\t\\t\\t %s\" %(sorted_be_cen[i][0],sorted_be_cen[i][1])"
   ]
  },
  {
   "cell_type": "markdown",
   "metadata": {},
   "source": [
    "* Compare the two lists. Explain the differences between the two lists in your own words."
   ]
  },
  {
   "cell_type": "markdown",
   "metadata": {},
   "source": [
    "# Explain here!!!!"
   ]
  },
  {
   "cell_type": "markdown",
   "metadata": {},
   "source": [
    "<hr>\n",
    "* Create a scatterplot of betweenness centrality vs. navigation centrality."
   ]
  },
  {
   "cell_type": "code",
   "execution_count": 98,
   "metadata": {
    "collapsed": false
   },
   "outputs": [],
   "source": [
    "sorted_navi_cen = sorted(navi_cen.items(), key=operator.itemgetter(0))\n",
    "sorted_be_cen = sorted(be_cen.items(), key=operator.itemgetter(0))"
   ]
  },
  {
   "cell_type": "code",
   "execution_count": 101,
   "metadata": {
    "collapsed": false
   },
   "outputs": [
    {
     "name": "stdout",
     "output_type": "stream",
     "text": [
      "4592 4592\n"
     ]
    }
   ],
   "source": [
    "print len(sorted_navi_cen),len(sorted_be_cen)"
   ]
  },
  {
   "cell_type": "code",
   "execution_count": 103,
   "metadata": {
    "collapsed": true
   },
   "outputs": [],
   "source": [
    "navi_values = []\n",
    "be_values = []\n",
    "#Check if nodes do not match\n",
    "for i in range(len(sorted_navi_cen)):\n",
    "    if sorted_navi_cen[i][0] != sorted_be_cen[i][0]:\n",
    "        print i\n",
    "    else:\n",
    "        navi_values.append(sorted_navi_cen[i][1])\n",
    "        be_values.append(sorted_be_cen[i][1])"
   ]
  },
  {
   "cell_type": "code",
   "execution_count": 145,
   "metadata": {
    "collapsed": false
   },
   "outputs": [
    {
     "data": {
      "text/plain": [
       "(0, 9000)"
      ]
     },
     "execution_count": 145,
     "metadata": {},
     "output_type": "execute_result"
    },
    {
     "data": {
      "image/png": "[encoded data removed]",
      "text/plain": [
       "<matplotlib.figure.Figure at 0x15aa2f250>"
      ]
     },
     "metadata": {},
     "output_type": "display_data"
    }
   ],
   "source": [
    "plt.figure(figsize=(27, 9))\n",
    "plt.scatter(be_values,navi_values)\n",
    "plt.ylabel('Navigation centrality')\n",
    "plt.xlabel('Betweenness centrality')\n",
    "plt.title('Navigation centrality vs Betweenness centrality')\n",
    "plt.xlim(0, 0.095)\n",
    "plt.ylim(0,9000)"
   ]
  },
  {
   "cell_type": "markdown",
   "metadata": {},
   "source": [
    "<hr>\n",
    "* Let's explore the pages that have navigation centrality equal to zero.\n",
    "  * How many pages have zero navigation centrality?\n",
    "  * What is the the page with zero navigation centrality and highest betweenness centrality? Can you explain why no human navigated to this page? Can you explain why the page is central in the actual link network? (For example, you can take a look at the degree of the node).\n",
    "  * Plot the distribution of betweenness centrality for the pages with zero navigation centrality. "
   ]
  },
  {
   "cell_type": "code",
   "execution_count": 119,
   "metadata": {
    "collapsed": false
   },
   "outputs": [
    {
     "name": "stdout",
     "output_type": "stream",
     "text": [
      "The amount of pages that have zero navigation centrality is 1187.\n"
     ]
    }
   ],
   "source": [
    "count = 0\n",
    "for number in navi_cen.values():\n",
    "    if number is 0:\n",
    "        count = count +1\n",
    "print 'The amount of pages that have zero navigation centrality is %s.' %count"
   ]
  },
  {
   "cell_type": "code",
   "execution_count": 128,
   "metadata": {
    "collapsed": false
   },
   "outputs": [
    {
     "name": "stdout",
     "output_type": "stream",
     "text": [
      "TGV 0.00112415650755\n"
     ]
    }
   ],
   "source": [
    "page_high_be = 0\n",
    "page_name = ''\n",
    "for page in navi_cen.keys():\n",
    "    if navi_cen[page] is 0 and be_cen[page] > page_high_be:\n",
    "        page_name = page\n",
    "        page_high_be = be_cen[page]\n",
    "print page_name,page_high_be"
   ]
  },
  {
   "cell_type": "code",
   "execution_count": 130,
   "metadata": {
    "collapsed": false
   },
   "outputs": [
    {
     "name": "stdout",
     "output_type": "stream",
     "text": [
      "49 11 38\n"
     ]
    }
   ],
   "source": [
    "print DG.degree('TGV'),DG.in_degree('TGV'), DG.out_degree('TGV')"
   ]
  },
  {
   "cell_type": "code",
   "execution_count": 131,
   "metadata": {
    "collapsed": true
   },
   "outputs": [],
   "source": [
    "navi_be_cen = {}\n",
    "for page in navi_cen.keys():\n",
    "    if navi_cen[page] is 0:\n",
    "        navi_be_cen[page] = be_cen[page]"
   ]
  },
  {
   "cell_type": "code",
   "execution_count": 142,
   "metadata": {
    "collapsed": false
   },
   "outputs": [
    {
     "data": {
      "text/plain": [
       "<matplotlib.text.Text at 0x15a0b6390>"
      ]
     },
     "execution_count": 142,
     "metadata": {},
     "output_type": "execute_result"
    },
    {
     "data": {
      "image/png": "[encoded data removed]",
      "text/plain": [
       "<matplotlib.figure.Figure at 0x15527eb90>"
      ]
     },
     "metadata": {},
     "output_type": "display_data"
    }
   ],
   "source": [
    "plt.figure(figsize=(27, 9))\n",
    "plt.plot(navi_be_cen.values(),lw=1.5)\n",
    "plt.ylabel('Betweenness centrality')\n",
    "plt.xlabel('The nodes')"
   ]
  },
  {
   "cell_type": "markdown",
   "metadata": {},
   "source": [
    "* Now, let's *throw out all pages with zero navigation centrality* and compare navigation- and betweenness centrality for the remaining pages.\n",
    "  * What is the correlation between betweenness centrality and navigation centrality?\n",
    "  * Comment on the top 5 outliers."
   ]
  },
  {
   "cell_type": "code",
   "execution_count": 150,
   "metadata": {
    "collapsed": false
   },
   "outputs": [
    {
     "name": "stdout",
     "output_type": "stream",
     "text": [
      "3405 3405\n"
     ]
    }
   ],
   "source": [
    "non_zero_navi_path = Counter(navi_path)\n",
    "zero_navi_be_cen = be_cen\n",
    "list_node_zero_navi = []\n",
    "for node in uni_node:\n",
    "    if node not in non_zero_navi_path.keys():\n",
    "        list_node_zero_navi.append(node)\n",
    "for node in list_node_zero_navi:\n",
    "    zero_navi_be_cen.pop(node,None)\n",
    "\n",
    "print len(non_zero_navi_path),len(zero_navi_be_cen)"
   ]
  },
  {
   "cell_type": "code",
   "execution_count": 151,
   "metadata": {
    "collapsed": true
   },
   "outputs": [],
   "source": [
    "sorted_zero_navi_be_cen = sorted(zero_navi_be_cen.items(), key=operator.itemgetter(0))\n",
    "sorted_non_zero_navi_path = sorted(non_zero_navi_path.items(), key=operator.itemgetter(0))"
   ]
  },
  {
   "cell_type": "code",
   "execution_count": 153,
   "metadata": {
    "collapsed": true
   },
   "outputs": [],
   "source": [
    "zero_navi_values = []\n",
    "zero_be_values = []\n",
    "#Check if nodes do not match\n",
    "for i in range(len(sorted_zero_navi_be_cen)):\n",
    "    if sorted_zero_navi_be_cen[i][0] != sorted_non_zero_navi_path[i][0]:\n",
    "        print i\n",
    "    else:\n",
    "        zero_navi_values.append(sorted_non_zero_navi_path[i][1])\n",
    "        zero_be_values.append(sorted_zero_navi_be_cen[i][1])"
   ]
  },
  {
   "cell_type": "code",
   "execution_count": 156,
   "metadata": {
    "collapsed": false
   },
   "outputs": [
    {
     "data": {
      "text/plain": [
       "(2500, 9000)"
      ]
     },
     "execution_count": 156,
     "metadata": {},
     "output_type": "execute_result"
    },
    {
     "data": {
      "image/png": "[encoded data removed]",
      "text/plain": [
       "<matplotlib.figure.Figure at 0x15aa15b50>"
      ]
     },
     "metadata": {},
     "output_type": "display_data"
    }
   ],
   "source": [
    "plt.figure(figsize=(27, 9))\n",
    "plt.scatter(zero_be_values,zero_navi_values)\n",
    "plt.ylabel('Navigation centrality')\n",
    "plt.xlabel('Betweenness centrality')\n",
    "plt.title('Navigation centrality vs Betweenness centrality')\n",
    "plt.xlim(0.02, 0.095)\n",
    "plt.ylim(2500,9000)"
   ]
  },
  {
   "cell_type": "code",
   "execution_count": null,
   "metadata": {
    "collapsed": true
   },
   "outputs": [],
   "source": []
  }
 ],
 "metadata": {
  "anaconda-cloud": {},
  "kernelspec": {
   "display_name": "Python [Root]",
   "language": "python",
   "name": "Python [Root]"
  },
  "language_info": {
   "codemirror_mode": {
    "name": "ipython",
    "version": 2
   },
   "file_extension": ".py",
   "mimetype": "text/x-python",
   "name": "python",
   "nbconvert_exporter": "python",
   "pygments_lexer": "ipython2",
   "version": "2.7.12"
  }
 },
 "nbformat": 4,
 "nbformat_minor": 0
}
