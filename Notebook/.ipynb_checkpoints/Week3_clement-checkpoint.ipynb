{
 "cells": [
  {
   "cell_type": "code",
   "execution_count": 3,
   "metadata": {
    "collapsed": false
   },
   "outputs": [],
   "source": [
    "import networkx as nx\n",
    "import matplotlib.pyplot as plt\n",
    "\n",
    "%matplotlib inline\n",
    "\n",
    "G = []\n",
    "\n",
    "for p in [0, 0.1, 1]:\n",
    "    G+= [nx.watts_strogatz_graph(500, 4, p)]\n",
    "\n",
    "nx.draw(G[1], node_size=50)\n",
    "plt.show()"
   ]
  },
  {
   "cell_type": "code",
   "execution_count": 4,
   "metadata": {
    "collapsed": false
   },
   "outputs": [
    {
     "name": "stdout",
     "output_type": "stream",
     "text": [
      "62.875751503\n",
      "8.01770741483\n",
      "4.7616993988\n"
     ]
    }
   ],
   "source": [
    "for graph in G:\n",
    "    print nx.average_shortest_path_length(graph)"
   ]
  },
  {
   "cell_type": "code",
   "execution_count": 5,
   "metadata": {
    "collapsed": false
   },
   "outputs": [
    {
     "name": "stdout",
     "output_type": "stream",
     "text": [
      "[[0, 62.875751503006022, 7.1054273576010019e-15], [0.01, 23.351148376753507, 4.6830027010560809], [0.03, 13.136274148296595, 1.2490053309431914], [0.05, 10.166726092184371, 0.73511755632899722], [0.1, 7.7103892585170346, 0.25640658622010459], [0.2, 6.1110048897795597, 0.10942899018735265]]\n"
     ]
    }
   ],
   "source": [
    "import numpy as np\n",
    "\n",
    "prob = [0,0.01,0.03,0.05,0.1,0.2]\n",
    "d = [[x, []] for x in prob]\n",
    "l = []\n",
    "\n",
    "for k in d:\n",
    "    for i in range(50):\n",
    "        gg = nx.watts_strogatz_graph(500, 4, k[0])\n",
    "        k[1] += [nx.average_shortest_path_length(gg)]\n",
    "        \n",
    "    l += [[k[0], np.mean(k[1]), np.std(k[1])]]\n",
    "\n",
    "print l"
   ]
  },
  {
   "cell_type": "code",
   "execution_count": 6,
   "metadata": {
    "collapsed": false
   },
   "outputs": [],
   "source": [
    "x = [k[0] for k in l]\n",
    "y = [k[1] for k in l]\n",
    "yerr = [k[2] for k in l]\n",
    "\n",
    "plt.figure()\n",
    "plt.errorbar(x, y, xerr=0, yerr=yerr)\n",
    "plt.xlabel('p')\n",
    "plt.ylabel('ave(<d>)')\n",
    "\n",
    "plt.show()"
   ]
  },
  {
   "cell_type": "code",
   "execution_count": null,
   "metadata": {
    "collapsed": true
   },
   "outputs": [],
   "source": []
  }
 ],
 "metadata": {
  "kernelspec": {
   "display_name": "Python [Root]",
   "language": "python",
   "name": "Python [Root]"
  },
  "language_info": {
   "codemirror_mode": {
    "name": "ipython",
    "version": 2
   },
   "file_extension": ".py",
   "mimetype": "text/x-python",
   "name": "python",
   "nbconvert_exporter": "python",
   "pygments_lexer": "ipython2",
   "version": "2.7.12"
  }
 },
 "nbformat": 4,
 "nbformat_minor": 0
}
