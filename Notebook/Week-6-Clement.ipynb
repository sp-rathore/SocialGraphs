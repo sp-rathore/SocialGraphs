{
 "cells": [
  {
   "cell_type": "markdown",
   "metadata": {},
   "source": [
    "# Week 5\n",
    "## Installing and the basics\n",
    "First, we just install NLTK and import it"
   ]
  },
  {
   "cell_type": "code",
   "execution_count": 1,
   "metadata": {
    "collapsed": false
   },
   "outputs": [
    {
     "name": "stdout",
     "output_type": "stream",
     "text": [
      "*** Introductory Examples for the NLTK Book ***\n",
      "Loading text1, ..., text9 and sent1, ..., sent9\n",
      "Type the name of the text or sentence to view it.\n",
      "Type: 'texts()' or 'sents()' to list the materials.\n",
      "text1: Moby Dick by Herman Melville 1851\n",
      "text2: Sense and Sensibility by Jane Austen 1811\n",
      "text3: The Book of Genesis\n",
      "text4: Inaugural Address Corpus\n",
      "text5: Chat Corpus\n",
      "text6: Monty Python and the Holy Grail\n",
      "text7: Wall Street Journal\n",
      "text8: Personals Corpus\n",
      "text9: The Man Who Was Thursday by G . K . Chesterton 1908\n"
     ]
    }
   ],
   "source": [
    "from nltk.book import *"
   ]
  },
  {
   "cell_type": "markdown",
   "metadata": {},
   "source": [
    "* Try out the concordance method, using another text and a word of your own choosing."
   ]
  },
  {
   "cell_type": "code",
   "execution_count": 2,
   "metadata": {
    "collapsed": false
   },
   "outputs": [
    {
     "name": "stdout",
     "output_type": "stream",
     "text": [
      "Displaying 13 of 13 matches:\n",
      "hat is your purpose , Arthur ... the quest for the Holy Grail . [ boom ] [ sing\n",
      "ve been charged by God with a sacred quest . If he will give us food and shelte\n",
      " for the night he can join us in our quest for the Holy Grail . FRENCH GUARD : \n",
      "t a new strategy was required if the quest for the Holy Grail were to be brough\n",
      " : Surely you ' ve not given up your quest for the Holy Grail ? MINSTREL : [ si\n",
      "he Holy Grail ! ARTHUR : That is our quest . You know much that is hidden , O T\n",
      " re looking for the Holy Grail . Our quest is to find the Holy Grail . KNIGHTS \n",
      " The cartoon peril was no more . The quest for Holy Grail could continue . SCEN\n",
      "amelot . BRIDGEKEEPER : What is your quest ? LAUNCELOT : To seek the Holy Grail\n",
      "amelot . BRIDGEKEEPER : What is your quest ? ROBIN : To seek the Holy Grail . B\n",
      "amelot . BRIDGEKEEPER : What is your quest ? GALAHAD : I seek the Grail . BRIDG\n",
      "ritons . BRIDGEKEEPER : What is your quest ? ARTHUR : To seek the Holy Grail . \n",
      "ic ] ARTHUR : The Castle Aaagh . Our quest is at an end ! God be praised ! Almi\n"
     ]
    }
   ],
   "source": [
    "text6.concordance(\"quest\")"
   ]
  },
  {
   "cell_type": "markdown",
   "metadata": {},
   "source": [
    "* Also try out the similar and common_context methods for a few of your own examples."
   ]
  },
  {
   "cell_type": "code",
   "execution_count": 3,
   "metadata": {
    "collapsed": false
   },
   "outputs": [
    {
     "name": "stdout",
     "output_type": "stream",
     "text": [
      "rabbit\n"
     ]
    }
   ],
   "source": [
    "#I just thought the result was funny so I left it :)\n",
    "text6.similar(\"French\")"
   ]
  },
  {
   "cell_type": "code",
   "execution_count": 4,
   "metadata": {
    "collapsed": false
   },
   "outputs": [
    {
     "name": "stdout",
     "output_type": "stream",
     "text": [
      "market government issue president year report economy law stock\n",
      "country firm bill program test dollar rise companies index plant house\n"
     ]
    }
   ],
   "source": [
    "text7.similar(\"company\")"
   ]
  },
  {
   "cell_type": "code",
   "execution_count": 5,
   "metadata": {
    "collapsed": false
   },
   "outputs": [
    {
     "name": "stdout",
     "output_type": "stream",
     "text": [
      "Displaying 25 of 161 matches:\n",
      "said *T*-1 Darrell Phillips , vice president of human resources for Hollingswor\n",
      "Vitulli was named *-12 senior vice president *RNR*-1 and general manager *RNR*-\n",
      " Spoon , recently named * Newsweek president , said 0 Newsweek 's ad rates woul\n",
      "ut $ 2.2 billion *U* . John Rowe , president *RNR*-1 and chief executive office\n",
      "n Ricken , 52 years old and former president and chief operating officer of Toy\n",
      "etired Circuit City executive vice president , and Robert R. Glauber , U.S. Tre\n",
      "any includes Neil Davenport , 47 , president and chief executive officer ; Jose\n",
      " ; Joseph M. Blanchard , 37 , vice president , engineering ; Malcolm A. Hammert\n",
      "; Malcolm A. Hammerton , 40 , vice president , software ; and Douglas R. Wheela\n",
      "nd Douglas R. Wheeland , 45 , vice president , hardware . All came from Cray Re\n",
      "s named *-27 senior executive vice president and chief operating officer , both\n",
      "e *-1 to report to Donald Pardus , president and chief executive officer . Mr. \n",
      "r . Mr. Stevens was executive vice president of this electric-utility holding c\n",
      "59 , was named *-28 executive vice president of the company . He was previously\n",
      "of the company . He was previously president of the company 's Eastern Edison C\n",
      " named *-1 to succeed Mr. Hatch as president of Eastern Edison . Previously he \n",
      "rn Edison . Previously he was vice president of Eastern Edison . Robert P. Tass\n",
      " , 63 , was named *-29 senior vice president of Eastern Utilities . He was prev\n",
      "Utilities . He was previously vice president . The U.S. , *-1 claiming some suc\n",
      "ently has said 0 the government of President Carlos Menem , who *T*-29 took off\n",
      "ry to a group led * by the unit 's president , Thomas R. Sloan , and other mana\n",
      "e program . The White House said 0 President Bush has approved duty-free treatm\n",
      "d be the main beneficiaries of the president 's action . Imports of the types o\n",
      "Stephen Akerfeldt , currently vice president finance , will succeed Mr. McAlpin\n",
      "-1 assisted *-2 by Manfred Gingl , president and chief executive . Neither they\n"
     ]
    }
   ],
   "source": [
    "text7.concordance('president')"
   ]
  },
  {
   "cell_type": "code",
   "execution_count": 6,
   "metadata": {
    "collapsed": false
   },
   "outputs": [
    {
     "name": "stdout",
     "output_type": "stream",
     "text": [
      "the_the the_and the_could a_to the_ability the_to the_is the_proposal\n",
      "the_does\n"
     ]
    }
   ],
   "source": [
    "text7.common_contexts(['president','company'])"
   ]
  },
  {
   "cell_type": "markdown",
   "metadata": {},
   "source": [
    "* Create your own version of a dispersion plot (\"your own version\" means another text and different word)."
   ]
  },
  {
   "cell_type": "code",
   "execution_count": 7,
   "metadata": {
    "collapsed": true
   },
   "outputs": [],
   "source": [
    "#We can find more or less where the different characters appear\n",
    "text6.dispersion_plot([\"Arthur\", \"Launcelot\", \"BRIDGEKEEPER\", \"Camelot\"])"
   ]
  },
  {
   "cell_type": "markdown",
   "metadata": {},
   "source": [
    "* Explain in your own words what aspect of language lexical diversity describes.\n",
    "The lexical diversity descibes the number of times each word appears in the text on average. So it can \"measure\" if a text has a lot of different words or uses the same many times.\n",
    "(NB: Usually the lexical diversity is defined by the inverse of this value, so the text is more diverified if it has a higher value)"
   ]
  },
  {
   "cell_type": "markdown",
   "metadata": {},
   "source": [
    "* Create frequency distributions for text2, including the cumulative frequency plot for the 75 most common words."
   ]
  },
  {
   "cell_type": "code",
   "execution_count": 8,
   "metadata": {
    "collapsed": false
   },
   "outputs": [
    {
     "name": "stdout",
     "output_type": "stream",
     "text": [
      "[(u',', 9397), (u'to', 4063), (u'.', 3975), (u'the', 3861), (u'of', 3565), (u'and', 3350), (u'her', 2436), (u'a', 2043), (u'I', 2004), (u'in', 1904), (u'was', 1846), (u'it', 1568), (u'\"', 1506), (u';', 1419), (u'she', 1333), (u'be', 1305), (u'that', 1297), (u'for', 1234), (u'not', 1212), (u'as', 1179), (u'you', 1037), (u'with', 971), (u'had', 969), (u'his', 941), (u'he', 895), (u\"'\", 883), (u'have', 807), (u'at', 806), (u'by', 737), (u'is', 728), (u'.\"', 721), (u's', 700), (u'Elinor', 684), (u'on', 676), (u'all', 642), (u'him', 633), (u'so', 617), (u'but', 597), (u'which', 592), (u'could', 568), (u'Marianne', 566), (u'my', 551), (u'Mrs', 530), (u'from', 527), (u'would', 507), (u'very', 492), (u'no', 488), (u'their', 463), (u'them', 462), (u'--', 461), (u'been', 440), (u'were', 437), (u'me', 433), (u'they', 428), (u'more', 406), (u'said', 397), (u',\"', 396), (u'any', 389), (u'what', 375), (u'this', 372), (u'-', 366), (u'every', 361), (u'than', 360), (u'will', 354), (u'or', 353), (u'your', 347), (u'an', 346), (u'such', 340), (u'one', 304), (u'do', 296), (u'!', 289), (u'But', 289), (u'much', 287), (u'sister', 282), (u'only', 282)]\n"
     ]
    }
   ],
   "source": [
    "fdist2 = FreqDist(text2)\n",
    "\n",
    "#Here is just another way to get the most common words\n",
    "voc = fdist2.most_common(75)\n",
    "print voc"
   ]
  },
  {
   "cell_type": "code",
   "execution_count": 9,
   "metadata": {
    "collapsed": true
   },
   "outputs": [],
   "source": [
    "fdist2.plot(75, cumulative=True)"
   ]
  },
  {
   "cell_type": "markdown",
   "metadata": {},
   "source": [
    "* What is a bigram? How does it relate to collocations. Explain in your own words.\n",
    "A bigram is a sequence of two consecutive words in a text. With bigrams(), one can see if two words from the given word list appear consecultively in the text.\n",
    "A collocation is a pair of words that are usually consecutive. Thus, a collocation is a bigram that occurs more frenquently than others with these words."
   ]
  },
  {
   "cell_type": "markdown",
   "metadata": {},
   "source": [
    "* Work through ex 2-12 in NLPP's section 1.8.\n",
    "2. How many hundred-letter strings are possible with a 26 letter alphabet?"
   ]
  },
  {
   "cell_type": "code",
   "execution_count": 10,
   "metadata": {
    "collapsed": false
   },
   "outputs": [
    {
     "name": "stdout",
     "output_type": "stream",
     "text": [
      "3.143e+141\n"
     ]
    }
   ],
   "source": [
    "word100 = 26 ** 100\n",
    "print \"%.4g\" % word100"
   ]
  },
  {
   "cell_type": "markdown",
   "metadata": {},
   "source": [
    "That's WAY more than the number of particules in the observable Universe (~10^80)\n",
    "3. What happens when you type ['Monty', 'Python'] * 20, or 3 * sent1?"
   ]
  },
  {
   "cell_type": "code",
   "execution_count": 11,
   "metadata": {
    "collapsed": false
   },
   "outputs": [
    {
     "name": "stdout",
     "output_type": "stream",
     "text": [
      "['Monty', 'Python', 'Monty', 'Python', 'Monty', 'Python', 'Monty', 'Python']\n",
      "\n",
      "['Call', 'me', 'Ishmael', '.', 'Call', 'me', 'Ishmael', '.', 'Call', 'me', 'Ishmael', '.']\n"
     ]
    }
   ],
   "source": [
    "print ['Monty', 'Python'] * 4\n",
    "print \n",
    "print 3 * sent1"
   ]
  },
  {
   "cell_type": "markdown",
   "metadata": {},
   "source": [
    "The multiplication of an integer and a list will create a new list with n times the initial list in it\n",
    "4.  How many words are there in text2? How many distinct words are there?"
   ]
  },
  {
   "cell_type": "code",
   "execution_count": 12,
   "metadata": {
    "collapsed": false
   },
   "outputs": [
    {
     "name": "stdout",
     "output_type": "stream",
     "text": [
      "There are 141576 words in total in text2, and 6833 different words.\n"
     ]
    }
   ],
   "source": [
    "print 'There are %d words in total in text2, and %d different words.' % (len(text2), len(set(text2)))"
   ]
  },
  {
   "cell_type": "markdown",
   "metadata": {},
   "source": [
    "5. Which genre is more lexically diverse?\n",
    "Humor has a lexical diversity of 4.3, whereas romance scores 8.3. That is, a word in a humor text will appear on average 4.3 times. \n",
    "Thus, Humor texts use more different words.\n",
    "\n",
    "6. What can you observe about the different roles played by the males and females in Sense and Sensibility? Can you identify the couples?"
   ]
  },
  {
   "cell_type": "code",
   "execution_count": 13,
   "metadata": {
    "collapsed": true
   },
   "outputs": [],
   "source": [
    "text2.dispersion_plot(['Elinor', 'Marianne', 'Edward', 'Willoughby'])"
   ]
  },
  {
   "cell_type": "markdown",
   "metadata": {},
   "source": [
    "It appears that Elinor and Marianne, the two female characters, are involved continuously in the novel, but Ednward and Willoughby only partly, and only when the other is not concernerned.\n",
    "Moreover, we can clearly see that Marianne is more cited when Edward is as well, and the same tendency can be seen with the tow other characters: one can easily conclude on the possible couples.\n",
    "\n",
    "7. Find the collocations in text5."
   ]
  },
  {
   "cell_type": "code",
   "execution_count": 14,
   "metadata": {
    "collapsed": false
   },
   "outputs": [
    {
     "name": "stdout",
     "output_type": "stream",
     "text": [
      "wanna chat; PART JOIN; MODE #14-19teens; JOIN PART; PART PART;\n",
      "cute.-ass MP3; MP3 player; JOIN JOIN; times .. .; ACTION watches; guys\n",
      "wanna; song lasts; last night; ACTION sits; -...)...- S.M.R.; Lime\n",
      "Player; Player 12%; dont know; lez gurls; long time\n"
     ]
    }
   ],
   "source": [
    "text5.collocations()"
   ]
  },
  {
   "cell_type": "markdown",
   "metadata": {},
   "source": [
    "8. State the purpose of this expression. Describe the two steps involved in performing this computation.\n",
    "..* len(set(text4))\n",
    "set(text4) will return the set of words in text4, so that no word will appear twice. Then len(set(text4)) will return the number of distinct words in that text."
   ]
  },
  {
   "cell_type": "code",
   "execution_count": null,
   "metadata": {
    "collapsed": true
   },
   "outputs": [],
   "source": []
  }
 ],
 "metadata": {
  "kernelspec": {
   "display_name": "Python [Root]",
   "language": "python",
   "name": "Python [Root]"
  },
  "language_info": {
   "codemirror_mode": {
    "name": "ipython",
    "version": 2
   },
   "file_extension": ".py",
   "mimetype": "text/x-python",
   "name": "python",
   "nbconvert_exporter": "python",
   "pygments_lexer": "ipython2",
   "version": "2.7.12"
  }
 },
 "nbformat": 4,
 "nbformat_minor": 0
}
