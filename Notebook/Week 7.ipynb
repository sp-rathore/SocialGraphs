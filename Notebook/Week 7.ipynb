{
 "cells": [
  {
   "cell_type": "markdown",
   "metadata": {},
   "source": [
    "## Describe the class of strings matched by the following regular expressions.\n",
    "\n",
    "* [a-zA-Z]+\n",
    "* [A-Z][a-z]*\n",
    "* p[aeiou]{,2}t\n",
    "* \\d+(\\.\\d+)?\n",
    "* ([^aeiou][aeiou][^aeiou])*\n",
    "* \\w+|[^\\w\\s]+\n",
    "\n",
    "### Test your answers using nltk.re_show()."
   ]
  },
  {
   "cell_type": "markdown",
   "metadata": {},
   "source": [
    "* [a-zA-Z]+ - In this case it matches only characters - lower or upper case with + tells that it could one or more of any of the characters\n",
    "\n",
    "* [A-Z][a-z]* - It will first match for A-Z and then will match for zero or any of the lower case characters\n",
    "\n",
    "* p[aeiou]{,2}t - it will look for a word that starts with p , has any of the characters (aeiou) not more than 2 repeats and ending with t\n",
    "\n",
    "* \\d+(\\.\\d+)? - it has to start with d (one or more of it), then it could be a . or d (one or more of it)and after that any thing\n",
    "\n",
    "* ([^aeiou][aeiou][^aeiou])* - word has to start with (aeiou), in between it could be anything from (aeiou) and then it could be \n",
    "\n",
    "* \\w+|[^\\w\\s]+ - It has to start with w and then any letters, and then there has to be a w and s in the letter and then it could be anything\n",
    "\n",
    "Test your answers using nltk.re_show()."
   ]
  },
  {
   "cell_type": "code",
   "execution_count": 3,
   "metadata": {
    "collapsed": false
   },
   "outputs": [],
   "source": [
    "from __future__ import division\n",
    "import nltk, re, pprint\n",
    "\n",
    "wordlist = [w for w in nltk.corpus.words.words('en') if w.islower()]"
   ]
  },
  {
   "cell_type": "code",
   "execution_count": 5,
   "metadata": {
    "collapsed": false
   },
   "outputs": [],
   "source": [
    "from nltk.corpus import gutenberg, nps_chat\n",
    "moby = nltk.Text(gutenberg.words('melville-moby_dick.txt'))"
   ]
  },
  {
   "cell_type": "code",
   "execution_count": null,
   "metadata": {
    "collapsed": true
   },
   "outputs": [],
   "source": []
  }
 ],
 "metadata": {
  "anaconda-cloud": {},
  "kernelspec": {
   "display_name": "Python [Root]",
   "language": "python",
   "name": "Python [Root]"
  },
  "language_info": {
   "codemirror_mode": {
    "name": "ipython",
    "version": 2
   },
   "file_extension": ".py",
   "mimetype": "text/x-python",
   "name": "python",
   "nbconvert_exporter": "python",
   "pygments_lexer": "ipython2",
   "version": "2.7.12"
  }
 },
 "nbformat": 4,
 "nbformat_minor": 0
}
